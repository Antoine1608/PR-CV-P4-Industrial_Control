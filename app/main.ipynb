{
 "cells": [
  {
   "cell_type": "code",
   "execution_count": null,
   "id": "9fccbee5-94e4-4eea-a338-24e4cab7b227",
   "metadata": {},
   "outputs": [],
   "source": [
    "# camcontrol/app/main.ipynb"
   ]
  },
  {
   "cell_type": "code",
   "execution_count": null,
   "id": "b2dfdb41-9ed6-45b1-8f65-d52528158048",
   "metadata": {},
   "outputs": [],
   "source": [
    "import pandas as pd\n",
    "import numpy as np\n",
    "import sys\n",
    "import os\n",
    "import streamlit as st\n",
    "st.set_page_config(layout=\"wide\")\n",
    "import pickle\n",
    "#import json\n",
    "#import requests\n",
    "from keras.models import load_model"
   ]
  },
  {
   "cell_type": "code",
   "execution_count": null,
   "id": "6e2a2a11-905f-47a1-827d-e5b1571d372e",
   "metadata": {},
   "outputs": [],
   "source": [
    "sys.path.append(os.path.abspath(r\"C:\\Users\\John\\Desktop\\camcontrol\\data\\utils\"))\n",
    "sys.path.append(os.path.abspath(r\"C:\\Users\\John\\Desktop\\camcontrol\\src\\utils\"))\n",
    "\n",
    "from img_to_excel_func import imgtoexcel\n",
    "from helper_functions import *"
   ]
  },
  {
   "cell_type": "code",
   "execution_count": null,
   "id": "f4d0db99-e588-43ae-9450-a2374325ba03",
   "metadata": {},
   "outputs": [],
   "source": [
    "# Titre de la page\n",
    "st.title(\"Détection de défauts\")"
   ]
  },
  {
   "cell_type": "code",
   "execution_count": null,
   "id": "fa7707e3-5c65-4d0b-b232-d41688f88154",
   "metadata": {},
   "outputs": [],
   "source": [
    "image_dir = st.sidebar.text_input(\"répertoire des images\")"
   ]
  },
  {
   "cell_type": "code",
   "execution_count": null,
   "id": "3fc0b030-1086-4aeb-82de-3f235159fb53",
   "metadata": {},
   "outputs": [],
   "source": [
    "# Le bouton de prédiction\n",
    "if st.button(\"Analyse des images\"):\n",
    "    model = load_model(r\"C:\\Users\\John\\Desktop\\camcontrol\\models\\model_best_weights.h5\")\n",
    "    dataset = imgtoexcel(r\"C:\\Users\\John\\Desktop\\camcontrol\\data\\train\", r\"C:\\Users\\John\\Desktop\\camcontrol\\data\\train_excel.xlsx\")   \n",
    "    \n",
    "    model = load_model(r\"C:\\Users\\John\\Desktop\\camcontrol\\models\\model_best_weights.h5\")\n",
    "    preprocessing_entry = preprocess_input\n",
    "    data = pd.read_excel(r\"C:\\Users\\John\\Desktop\\camcontrol\\data\\train.xlsx\")\n",
    "    test_flow = define_flow(data, preprocessing_entry)\n",
    "    y_pred_cat, y_pred = performance_test(data, model, test_flow)\n",
    "\n",
    "    df = data.copy()\n",
    "    df['pred'] = y_pred_cat\n",
    "    df.to_excel(r\"C:\\Users\\John\\Desktop\\camcontrol\\data\\train_excel.xlsx\")"
   ]
  }
 ],
 "metadata": {
  "kernelspec": {
   "display_name": "Python 3 (ipykernel)",
   "language": "python",
   "name": "python3"
  },
  "language_info": {
   "codemirror_mode": {
    "name": "ipython",
    "version": 3
   },
   "file_extension": ".py",
   "mimetype": "text/x-python",
   "name": "python",
   "nbconvert_exporter": "python",
   "pygments_lexer": "ipython3",
   "version": "3.9.13"
  }
 },
 "nbformat": 4,
 "nbformat_minor": 5
}
