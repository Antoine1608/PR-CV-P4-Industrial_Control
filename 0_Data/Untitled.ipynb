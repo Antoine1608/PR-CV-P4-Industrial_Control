{
 "cells": [
  {
   "cell_type": "code",
   "execution_count": 12,
   "id": "cba97110",
   "metadata": {},
   "outputs": [],
   "source": [
    "import os\n",
    "import pandas as pd"
   ]
  },
  {
   "cell_type": "code",
   "execution_count": 13,
   "id": "9b4b27b4",
   "metadata": {},
   "outputs": [],
   "source": [
    "import base64\n",
    "def create_onedrive_directdownload (onedrive_link):\n",
    "    data_bytes64 = base64.b64encode(bytes(onedrive_link, 'utf-8'))\n",
    "    data_bytes64_String = data_bytes64.decode('utf-8').replace('/','_').replace('+','-').rstrip(\"=\")\n",
    "    resultUrl = f\"https://api.onedrive.com/v1.0/shares/u!{data_bytes64_String}/root/content\"\n",
    "    return resultUrl"
   ]
  },
  {
   "cell_type": "code",
   "execution_count": 14,
   "id": "fde28915",
   "metadata": {},
   "outputs": [],
   "source": [
    "path = create_onedrive_directdownload(\"https://1drv.ms/u/s!Ar0caStAGezsdvGLk2C2M12NSuI?e=UWsUEH\")"
   ]
  },
  {
   "cell_type": "code",
   "execution_count": 15,
   "id": "d22bd518",
   "metadata": {},
   "outputs": [
    {
     "data": {
      "text/plain": [
       "'https://api.onedrive.com/v1.0/shares/u!aHR0cHM6Ly8xZHJ2Lm1zL3UvcyFBcjBjYVN0QUdlenNkdkdMazJDMk0xMk5TdUk_ZT1VV3NVRUg/root/content'"
      ]
     },
     "execution_count": 15,
     "metadata": {},
     "output_type": "execute_result"
    }
   ],
   "source": [
    "path"
   ]
  },
  {
   "cell_type": "code",
   "execution_count": null,
   "id": "438553a7",
   "metadata": {},
   "outputs": [],
   "source": []
  }
 ],
 "metadata": {
  "kernelspec": {
   "display_name": "Python 3 (ipykernel)",
   "language": "python",
   "name": "python3"
  },
  "language_info": {
   "codemirror_mode": {
    "name": "ipython",
    "version": 3
   },
   "file_extension": ".py",
   "mimetype": "text/x-python",
   "name": "python",
   "nbconvert_exporter": "python",
   "pygments_lexer": "ipython3",
   "version": "3.9.13"
  }
 },
 "nbformat": 4,
 "nbformat_minor": 5
}
