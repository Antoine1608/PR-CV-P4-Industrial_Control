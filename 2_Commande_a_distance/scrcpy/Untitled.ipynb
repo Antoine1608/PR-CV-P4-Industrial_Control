{
 "cells": [
  {
   "cell_type": "code",
   "execution_count": 8,
   "id": "09123ec0",
   "metadata": {},
   "outputs": [
    {
     "ename": "ImportError",
     "evalue": "cannot import name 'logsumexp' from 'autograd.scipy.misc' (C:\\Users\\John\\Desktop\\Formation\\venv\\lib\\site-packages\\autograd\\scipy\\misc.py)",
     "output_type": "error",
     "traceback": [
      "\u001b[1;31m---------------------------------------------------------------------------\u001b[0m",
      "\u001b[1;31mImportError\u001b[0m                               Traceback (most recent call last)",
      "Cell \u001b[1;32mIn[8], line 1\u001b[0m\n\u001b[1;32m----> 1\u001b[0m \u001b[38;5;28;01mfrom\u001b[39;00m \u001b[38;5;21;01mssm\u001b[39;00m \u001b[38;5;28;01mimport\u001b[39;00m ScreenMirrorServer\n\u001b[0;32m      4\u001b[0m \u001b[38;5;66;03m# ssm_server = ScreenMirrorServer(['<192.168.0.20>', port=7890])\u001b[39;00m\n\u001b[0;32m      5\u001b[0m ssm_server \u001b[38;5;241m=\u001b[39m ScreenMirrorServer(\u001b[38;5;124m'\u001b[39m\u001b[38;5;124m<192.168.0.20>\u001b[39m\u001b[38;5;124m'\u001b[39m,port\u001b[38;5;241m=\u001b[39m\u001b[38;5;241m7890\u001b[39m)  \u001b[38;5;66;03m# default: all ip & 7890 port\u001b[39;00m\n",
      "File \u001b[1;32m~\\Desktop\\Formation\\venv\\lib\\site-packages\\ssm\\__init__.py:3\u001b[0m\n\u001b[0;32m      1\u001b[0m \u001b[38;5;66;03m# Default imports for SSM\u001b[39;00m\n\u001b[1;32m----> 3\u001b[0m \u001b[38;5;28;01mfrom\u001b[39;00m \u001b[38;5;21;01m.\u001b[39;00m\u001b[38;5;21;01mhmm\u001b[39;00m \u001b[38;5;28;01mimport\u001b[39;00m \u001b[38;5;241m*\u001b[39m\n\u001b[0;32m      4\u001b[0m \u001b[38;5;28;01mfrom\u001b[39;00m \u001b[38;5;21;01m.\u001b[39;00m\u001b[38;5;21;01mlds\u001b[39;00m \u001b[38;5;28;01mimport\u001b[39;00m \u001b[38;5;241m*\u001b[39m\n",
      "File \u001b[1;32m~\\Desktop\\Formation\\venv\\lib\\site-packages\\ssm\\hmm.py:9\u001b[0m\n\u001b[0;32m      6\u001b[0m \u001b[38;5;28;01mfrom\u001b[39;00m \u001b[38;5;21;01mautograd\u001b[39;00m \u001b[38;5;28;01mimport\u001b[39;00m value_and_grad\n\u001b[0;32m      8\u001b[0m \u001b[38;5;28;01mfrom\u001b[39;00m \u001b[38;5;21;01mssm\u001b[39;00m\u001b[38;5;21;01m.\u001b[39;00m\u001b[38;5;21;01moptimizers\u001b[39;00m \u001b[38;5;28;01mimport\u001b[39;00m adam_step, rmsprop_step, sgd_step, convex_combination\n\u001b[1;32m----> 9\u001b[0m \u001b[38;5;28;01mfrom\u001b[39;00m \u001b[38;5;21;01mssm\u001b[39;00m\u001b[38;5;21;01m.\u001b[39;00m\u001b[38;5;21;01mprimitives\u001b[39;00m \u001b[38;5;28;01mimport\u001b[39;00m hmm_normalizer, hmm_expected_states, hmm_filter, hmm_sample, viterbi\n\u001b[0;32m     10\u001b[0m \u001b[38;5;28;01mfrom\u001b[39;00m \u001b[38;5;21;01mssm\u001b[39;00m\u001b[38;5;21;01m.\u001b[39;00m\u001b[38;5;21;01mutil\u001b[39;00m \u001b[38;5;28;01mimport\u001b[39;00m ensure_args_are_lists, ensure_args_not_none, \\\n\u001b[0;32m     11\u001b[0m     ensure_slds_args_not_none, ensure_variational_args_are_lists, \\\n\u001b[0;32m     12\u001b[0m     replicate, collapse\n\u001b[0;32m     14\u001b[0m \u001b[38;5;28;01mimport\u001b[39;00m \u001b[38;5;21;01mssm\u001b[39;00m\u001b[38;5;21;01m.\u001b[39;00m\u001b[38;5;21;01mobservations\u001b[39;00m \u001b[38;5;28;01mas\u001b[39;00m \u001b[38;5;21;01mobs\u001b[39;00m\n",
      "File \u001b[1;32m~\\Desktop\\Formation\\venv\\lib\\site-packages\\ssm\\primitives.py:4\u001b[0m\n\u001b[0;32m      2\u001b[0m \u001b[38;5;28;01mimport\u001b[39;00m \u001b[38;5;21;01mautograd\u001b[39;00m\u001b[38;5;21;01m.\u001b[39;00m\u001b[38;5;21;01mnumpy\u001b[39;00m \u001b[38;5;28;01mas\u001b[39;00m \u001b[38;5;21;01mnp\u001b[39;00m\n\u001b[0;32m      3\u001b[0m \u001b[38;5;28;01mimport\u001b[39;00m \u001b[38;5;21;01mautograd\u001b[39;00m\u001b[38;5;21;01m.\u001b[39;00m\u001b[38;5;21;01mnumpy\u001b[39;00m\u001b[38;5;21;01m.\u001b[39;00m\u001b[38;5;21;01mrandom\u001b[39;00m \u001b[38;5;28;01mas\u001b[39;00m \u001b[38;5;21;01mnpr\u001b[39;00m\n\u001b[1;32m----> 4\u001b[0m \u001b[38;5;28;01mfrom\u001b[39;00m \u001b[38;5;21;01mautograd\u001b[39;00m\u001b[38;5;21;01m.\u001b[39;00m\u001b[38;5;21;01mscipy\u001b[39;00m\u001b[38;5;21;01m.\u001b[39;00m\u001b[38;5;21;01mmisc\u001b[39;00m \u001b[38;5;28;01mimport\u001b[39;00m logsumexp\n\u001b[0;32m      5\u001b[0m \u001b[38;5;28;01mfrom\u001b[39;00m \u001b[38;5;21;01mautograd\u001b[39;00m\u001b[38;5;21;01m.\u001b[39;00m\u001b[38;5;21;01mscipy\u001b[39;00m\u001b[38;5;21;01m.\u001b[39;00m\u001b[38;5;21;01mlinalg\u001b[39;00m \u001b[38;5;28;01mimport\u001b[39;00m cholesky_banded, solve_banded, solveh_banded\n\u001b[0;32m      6\u001b[0m \u001b[38;5;28;01mfrom\u001b[39;00m \u001b[38;5;21;01mautograd\u001b[39;00m\u001b[38;5;21;01m.\u001b[39;00m\u001b[38;5;21;01mextend\u001b[39;00m \u001b[38;5;28;01mimport\u001b[39;00m primitive, defvjp\n",
      "\u001b[1;31mImportError\u001b[0m: cannot import name 'logsumexp' from 'autograd.scipy.misc' (C:\\Users\\John\\Desktop\\Formation\\venv\\lib\\site-packages\\autograd\\scipy\\misc.py)"
     ]
    }
   ],
   "source": [
    "from ssm import ScreenMirrorServer\n",
    "\n",
    "\n",
    "# ssm_server = ScreenMirrorServer(['<192.168.0.20>', port=7890])\n",
    "ssm_server = ScreenMirrorServer('<192.168.0.20>',port=7890)  # default: all ip & 7890 port\n",
    "\n",
    "ssm_server.start()"
   ]
  },
  {
   "cell_type": "code",
   "execution_count": 7,
   "id": "90f2b874",
   "metadata": {},
   "outputs": [
    {
     "name": "stdout",
     "output_type": "stream",
     "text": [
      "Requirement already satisfied: scipy in c:\\users\\john\\desktop\\formation\\venv\\lib\\site-packages (1.9.3)Note: you may need to restart the kernel to use updated packages.\n",
      "\n",
      "Requirement already satisfied: numpy<1.26.0,>=1.18.5 in c:\\users\\john\\desktop\\formation\\venv\\lib\\site-packages (from scipy) (1.24.1)\n"
     ]
    },
    {
     "name": "stderr",
     "output_type": "stream",
     "text": [
      "\n",
      "[notice] A new release of pip available: 22.3.1 -> 23.0.1\n",
      "[notice] To update, run: python.exe -m pip install --upgrade pip\n"
     ]
    }
   ],
   "source": [
    "pip install scipy"
   ]
  },
  {
   "cell_type": "code",
   "execution_count": null,
   "id": "54256751",
   "metadata": {},
   "outputs": [],
   "source": []
  },
  {
   "cell_type": "code",
   "execution_count": null,
   "id": "41c80158",
   "metadata": {},
   "outputs": [],
   "source": []
  }
 ],
 "metadata": {
  "kernelspec": {
   "display_name": "Python 3 (ipykernel)",
   "language": "python",
   "name": "python3"
  },
  "language_info": {
   "codemirror_mode": {
    "name": "ipython",
    "version": 3
   },
   "file_extension": ".py",
   "mimetype": "text/x-python",
   "name": "python",
   "nbconvert_exporter": "python",
   "pygments_lexer": "ipython3",
   "version": "3.9.13"
  }
 },
 "nbformat": 4,
 "nbformat_minor": 5
}
