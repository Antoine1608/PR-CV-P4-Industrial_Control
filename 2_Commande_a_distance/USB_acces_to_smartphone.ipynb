{
 "cells": [
  {
   "cell_type": "code",
   "execution_count": 8,
   "id": "37accdbd",
   "metadata": {},
   "outputs": [
    {
     "name": "stdout",
     "output_type": "stream",
     "text": [
      "Connected to <ppadb.device.Device object at 0x00000286D57F0730>\n"
     ]
    },
    {
     "data": {
      "text/plain": [
       "\"device.shell('input touchscreen tap 370 1150')\\ntime.sleep(1)\\ndevice.shell('input touchscreen tap 1030 1103')\\ntime.sleep(1)\\ndevice.shell('input touchscreen swipe 207 1684 476 1915')\\ntime.sleep(1)\\ndevice.shell('input touchscreen swipe 476 1915 956 1902')\\ntime.sleep(1)\\ndevice.shell('input touchscreen swipe 956 1902 1164 1556')\""
      ]
     },
     "execution_count": 8,
     "metadata": {},
     "output_type": "execute_result"
    }
   ],
   "source": [
    "'''Connection wifi :\n",
    "Connect PC with phone and confirm USB debugging. Run the command 'ADB services'for connection confirmation.\n",
    "Now run the' adb tcpip 5555' commandto enable WiFi Debug mode. After running the command, remove the USB.\n",
    "Now run the following command: adb connect <device IP address>The IP address of your Android can be found in settings > About Phone > IP Address\n",
    "Finally, run the command 'Scrcpy'. That's it.\n",
    "\n",
    "open USB debugging on smartphone :\n",
    "Settings > System > (Advanced) > Developer Options > USB debugging\n",
    "\n",
    "1- ouvrir le terminal\n",
    "\n",
    "2- taper : cd C:\\Users\\John\\Desktop\\Formation\\9-Concevez une appli pour détecter des defauts\\2_Commande_a_distance\\scrcpy\n",
    "\n",
    "3- taper : scrcpy\n",
    "\n",
    "Pour nouvel appareil\n",
    "\n",
    "1- connecter smartphone à USB\n",
    "2- ouvrir terminal\n",
    "3- taper : cd C:\\Users\\John\\Desktop\\Formation\\9-Concevez une appli pour détecter des defauts\\2_Commande_a_distance\\scrcpy\n",
    "4- adb connect 192.168.0.20\n",
    "5- adb tcpip 5555 (enable wifi debug mode)\n",
    "6- débrancher USB\n",
    "7- taper : scrcpy\n",
    "\n",
    "#path to program :\n",
    "#C:\\Users\\John\\PycharmProjects\\pythonProject\\connect.py\n",
    "\n",
    "#path to tutorial :\n",
    "#https://www.youtube.com/watch?v=6cvGOiurzts\n",
    "\n",
    "#turn on adb on computer ?\n",
    "\n",
    "#set on developer option :\n",
    "#On the device, go to Settings > About <device>. Tap the Build number seven times to make Settings > Developer options available.\n",
    "#Plus activate 'Pointer location' and 'Show taps'\n",
    "\n",
    "#set on debugging :\n",
    "#System > Developer options > USB debugging\n",
    "\n",
    "#to access directly to smartphone :\n",
    "#Activate scrcpy : \"C:\\Users\\John\\Desktop\\Formation\\9-Concevez une appli pour détecter des defauts\\2_Commande_a_distance\\scrcpy\\scrcpy.exe\"\n",
    "\n",
    "#copy of program '''\n",
    "import time\n",
    "from ppadb.client import Client as AdbClient\n",
    "\n",
    "client = AdbClient(host=\"127.0.0.1\", port=5037) # Default is \"127.0.0.1\" and 5037\n",
    "devices = client.devices()\n",
    "\n",
    "if len(devices) == 0:\n",
    "    print('No devices')\n",
    "    quit()\n",
    "\n",
    "device = devices[0]\n",
    "\n",
    "print(f'Connected to {device}')\n",
    "\n",
    "device.shell('input touchscreen tap 133 714')\n",
    "time.sleep(1)\n",
    "\n",
    "device.shell('input touchscreen tap 580 920')\n",
    "time.sleep(1)\n",
    "\n",
    "device.shell('input touchscreen tap 544 1620')\n",
    "\n",
    "'''device.shell('input touchscreen tap 370 1150')\n",
    "time.sleep(1)\n",
    "device.shell('input touchscreen tap 1030 1103')\n",
    "time.sleep(1)\n",
    "device.shell('input touchscreen swipe 207 1684 476 1915')\n",
    "time.sleep(1)\n",
    "device.shell('input touchscreen swipe 476 1915 956 1902')\n",
    "time.sleep(1)\n",
    "device.shell('input touchscreen swipe 956 1902 1164 1556')'''\n",
    "\n",
    "#Commands to control phone\n",
    "#device.shell('input touchscreen tap x y')\n",
    "\n",
    "#device.shell('input touchscreen swipe x1 y1 x2 y2')\n",
    "\n",
    "#device.shell('Input keyevent eventID')\n",
    "\n",
    "#device.shell('Input text \"Enter your text here\"')"
   ]
  }
 ],
 "metadata": {
  "kernelspec": {
   "display_name": "Python 3 (ipykernel)",
   "language": "python",
   "name": "python3"
  },
  "language_info": {
   "codemirror_mode": {
    "name": "ipython",
    "version": 3
   },
   "file_extension": ".py",
   "mimetype": "text/x-python",
   "name": "python",
   "nbconvert_exporter": "python",
   "pygments_lexer": "ipython3",
   "version": "3.9.12"
  }
 },
 "nbformat": 4,
 "nbformat_minor": 5
}
